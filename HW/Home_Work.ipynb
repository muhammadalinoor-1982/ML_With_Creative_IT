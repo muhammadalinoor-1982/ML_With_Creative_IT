{
 "cells": [
  {
   "cell_type": "markdown",
   "id": "9199a8c4-7d2d-4f5c-be61-c96ce35d9a3b",
   "metadata": {},
   "source": [
    "# Home Work"
   ]
  },
  {
   "cell_type": "markdown",
   "id": "4c5a8cc9-37bd-4d7a-8e31-ac6148de2972",
   "metadata": {},
   "source": [
    "Class-2 Home Work Topic: Variables and Arithmetic and Comparison Operators"
   ]
  },
  {
   "cell_type": "markdown",
   "id": "a6a3fe7c-a1e0-4326-aadc-02c13dfac183",
   "metadata": {},
   "source": [
    "Variables"
   ]
  },
  {
   "cell_type": "code",
   "execution_count": 10,
   "id": "1f30e9e5-d08f-4a70-b8dc-499dd4ab7a3f",
   "metadata": {},
   "outputs": [
    {
     "name": "stdout",
     "output_type": "stream",
     "text": [
      "5\n"
     ]
    }
   ],
   "source": [
    "var = 5\n",
    "print(var)"
   ]
  },
  {
   "cell_type": "markdown",
   "id": "279c0bc7-20ec-4e4a-8063-fe2c54afad51",
   "metadata": {},
   "source": [
    "Rule to Name a Variable"
   ]
  },
  {
   "cell_type": "markdown",
   "id": "ef2728d9-5bbd-4cc3-a076-bbffad4ccd3e",
   "metadata": {},
   "source": [
    "1. First Char Alphabet- Capital or Small (Mandatory)\n",
    "2. Digit or Special Char (*<^$#&%?!><|/) are not allowed as first char\n",
    "3. Digit are allowed in between - v1ar, var1, var_1, var_123\n",
    "4. Special Chars are not allowed in the name of the variable Except _\n",
    "5. Var name can start using _ as well "
   ]
  },
  {
   "cell_type": "markdown",
   "id": "dacfedc4-7868-4b2f-95e3-ca7f3307e050",
   "metadata": {},
   "source": [
    "Arithmetic Operators"
   ]
  },
  {
   "cell_type": "code",
   "execution_count": 8,
   "id": "7c1bdd8e-7d09-4302-9ffb-cc3bef4bb7c7",
   "metadata": {},
   "outputs": [
    {
     "name": "stdout",
     "output_type": "stream",
     "text": [
      "4\n",
      "1\n",
      "10\n",
      "5.0\n",
      "5\n",
      "2\n",
      "16\n"
     ]
    }
   ],
   "source": [
    "# Addition\n",
    "print(2+2)\n",
    "\n",
    "#substruction\n",
    "print(4-3)\n",
    "\n",
    "#multiplication\n",
    "print(5*2)\n",
    "\n",
    "#division\n",
    "print(10/2)\n",
    "\n",
    "#floor division\n",
    "print(10//2)\n",
    "\n",
    "#reminder\n",
    "print(10%4)\n",
    "\n",
    "#power\n",
    "print(2**4)"
   ]
  },
  {
   "cell_type": "markdown",
   "id": "ec0d4179-33f2-4b0f-b025-2805021d47ff",
   "metadata": {},
   "source": [
    "Comparison Operators"
   ]
  },
  {
   "cell_type": "code",
   "execution_count": 12,
   "id": "4dc9f8fc-cb3a-48a6-8b0f-40512ec6fe4d",
   "metadata": {},
   "outputs": [],
   "source": [
    "a=5\n",
    "b=10"
   ]
  },
  {
   "cell_type": "code",
   "execution_count": 14,
   "id": "9d1a7df6-fa15-4a35-b5a8-80f9e54246bf",
   "metadata": {},
   "outputs": [
    {
     "data": {
      "text/plain": [
       "False"
      ]
     },
     "execution_count": 14,
     "metadata": {},
     "output_type": "execute_result"
    }
   ],
   "source": [
    "a>b"
   ]
  },
  {
   "cell_type": "code",
   "execution_count": 16,
   "id": "a077e056-4f97-47bb-831a-09e46c522276",
   "metadata": {},
   "outputs": [
    {
     "data": {
      "text/plain": [
       "True"
      ]
     },
     "execution_count": 16,
     "metadata": {},
     "output_type": "execute_result"
    }
   ],
   "source": [
    "a<b"
   ]
  },
  {
   "cell_type": "code",
   "execution_count": 18,
   "id": "a536dd09-7b31-4430-ad70-08117815cae8",
   "metadata": {},
   "outputs": [
    {
     "data": {
      "text/plain": [
       "False"
      ]
     },
     "execution_count": 18,
     "metadata": {},
     "output_type": "execute_result"
    }
   ],
   "source": [
    "a>=b"
   ]
  },
  {
   "cell_type": "code",
   "execution_count": 20,
   "id": "1e3bd563-027e-428c-98bf-cb1cf4ea8b8c",
   "metadata": {},
   "outputs": [
    {
     "data": {
      "text/plain": [
       "False"
      ]
     },
     "execution_count": 20,
     "metadata": {},
     "output_type": "execute_result"
    }
   ],
   "source": [
    "a==b"
   ]
  },
  {
   "cell_type": "code",
   "execution_count": 24,
   "id": "15b06655-15bf-496f-992c-46f51b947a00",
   "metadata": {},
   "outputs": [
    {
     "data": {
      "text/plain": [
       "True"
      ]
     },
     "execution_count": 24,
     "metadata": {},
     "output_type": "execute_result"
    }
   ],
   "source": [
    "a!=b "
   ]
  },
  {
   "cell_type": "code",
   "execution_count": 26,
   "id": "c2fe2025-b522-49c6-9e23-06850feabeb5",
   "metadata": {},
   "outputs": [
    {
     "data": {
      "text/plain": [
       "True"
      ]
     },
     "execution_count": 26,
     "metadata": {},
     "output_type": "execute_result"
    }
   ],
   "source": [
    "a<b and a<=b"
   ]
  },
  {
   "cell_type": "code",
   "execution_count": 28,
   "id": "4a6cc47d-a162-443e-ba22-e6e8d049eb59",
   "metadata": {},
   "outputs": [
    {
     "data": {
      "text/plain": [
       "True"
      ]
     },
     "execution_count": 28,
     "metadata": {},
     "output_type": "execute_result"
    }
   ],
   "source": [
    "a<b or b>a"
   ]
  }
 ],
 "metadata": {
  "kernelspec": {
   "display_name": "Python 3 (ipykernel)",
   "language": "python",
   "name": "python3"
  },
  "language_info": {
   "codemirror_mode": {
    "name": "ipython",
    "version": 3
   },
   "file_extension": ".py",
   "mimetype": "text/x-python",
   "name": "python",
   "nbconvert_exporter": "python",
   "pygments_lexer": "ipython3",
   "version": "3.11.2"
  },
  "widgets": {
   "application/vnd.jupyter.widget-state+json": {
    "state": {},
    "version_major": 2,
    "version_minor": 0
   }
  }
 },
 "nbformat": 4,
 "nbformat_minor": 5
}
