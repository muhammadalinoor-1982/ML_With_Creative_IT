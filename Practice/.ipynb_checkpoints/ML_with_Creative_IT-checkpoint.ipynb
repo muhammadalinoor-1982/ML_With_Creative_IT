{
 "cells": [
  {
   "cell_type": "markdown",
   "id": "71af6dad-71ac-443d-b987-e40670cfe820",
   "metadata": {},
   "source": [
    "Class Start From 15/10/2023"
   ]
  }
 ],
 "metadata": {
  "kernelspec": {
   "display_name": "Python 3 (ipykernel)",
   "language": "python",
   "name": "python3"
  },
  "language_info": {
   "codemirror_mode": {
    "name": "ipython",
    "version": 3
   },
   "file_extension": ".py",
   "mimetype": "text/x-python",
   "name": "python",
   "nbconvert_exporter": "python",
   "pygments_lexer": "ipython3",
   "version": "3.11.2"
  },
  "widgets": {
   "application/vnd.jupyter.widget-state+json": {
    "state": {},
    "version_major": 2,
    "version_minor": 0
   }
  }
 },
 "nbformat": 4,
 "nbformat_minor": 5
}
